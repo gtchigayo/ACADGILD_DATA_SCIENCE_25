{
 "cells": [
  {
   "cell_type": "code",
   "execution_count": 1,
   "metadata": {},
   "outputs": [
    {
     "name": "stdout",
     "output_type": "stream",
     "text": [
      "Enter a list of words: qqq wwwwww tt\n"
     ]
    },
    {
     "data": {
      "text/plain": [
       "[3, 6, 2]"
      ]
     },
     "execution_count": 1,
     "metadata": {},
     "output_type": "execute_result"
    }
   ],
   "source": [
    "def word_len(my_words):\n",
    "    len_words=[len(i) for i in my_word.split()]\n",
    "    return len_words\n",
    "\n",
    "my_word =input(\"Enter a list of words: \")\n",
    "word_len(my_word)"
   ]
  },
  {
   "cell_type": "code",
   "execution_count": 2,
   "metadata": {},
   "outputs": [
    {
     "name": "stdout",
     "output_type": "stream",
     "text": [
      "Enter a letter: f\n"
     ]
    },
    {
     "data": {
      "text/plain": [
       "False"
      ]
     },
     "execution_count": 2,
     "metadata": {},
     "output_type": "execute_result"
    }
   ],
   "source": [
    "def vowels_check(x):\n",
    "    my_word =['a', 'e', 'i', 'o', 'u','A','E','I','O','U']\n",
    "    if len(x) == 1 and x.isalpha() == True:\n",
    "        x=x\n",
    "    if x in my_word:\n",
    "        return True\n",
    "    else:\n",
    "        return False\n",
    "            \n",
    "    \n",
    "my_word =input(\"Enter a letter: \")\n",
    "vowels_check(my_word)\n"
   ]
  }
 ],
 "metadata": {
  "kernelspec": {
   "display_name": "Python 3",
   "language": "python",
   "name": "python3"
  },
  "language_info": {
   "codemirror_mode": {
    "name": "ipython",
    "version": 3
   },
   "file_extension": ".py",
   "mimetype": "text/x-python",
   "name": "python",
   "nbconvert_exporter": "python",
   "pygments_lexer": "ipython3",
   "version": "3.7.0"
  }
 },
 "nbformat": 4,
 "nbformat_minor": 2
}
