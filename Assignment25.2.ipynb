{
 "cells": [
  {
   "cell_type": "code",
   "execution_count": 3,
   "metadata": {},
   "outputs": [
    {
     "name": "stdout",
     "output_type": "stream",
     "text": [
      "Enter a letter: z\n"
     ]
    },
    {
     "data": {
      "text/plain": [
       "False"
      ]
     },
     "execution_count": 3,
     "metadata": {},
     "output_type": "execute_result"
    }
   ],
   "source": [
    "def vowels_check(x):\n",
    "    my_word =['a', 'e', 'i', 'o', 'u','A','E','I','O','U']\n",
    "    if len(x) == 1 and x.isalpha() == True:\n",
    "        x=x\n",
    "    if x in my_word:\n",
    "        return True\n",
    "    else:\n",
    "        return False\n",
    "            \n",
    "    \n",
    "my_word =input(\"Enter a letter: \")\n",
    "vowels_check(my_word)\n",
    "\n",
    "                \n",
    "        \n",
    " \n",
    "\n",
    "\n",
    "\n"
   ]
  }
 ],
 "metadata": {
  "kernelspec": {
   "display_name": "Python 3",
   "language": "python",
   "name": "python3"
  },
  "language_info": {
   "codemirror_mode": {
    "name": "ipython",
    "version": 3
   },
   "file_extension": ".py",
   "mimetype": "text/x-python",
   "name": "python",
   "nbconvert_exporter": "python",
   "pygments_lexer": "ipython3",
   "version": "3.7.0"
  }
 },
 "nbformat": 4,
 "nbformat_minor": 2
}
